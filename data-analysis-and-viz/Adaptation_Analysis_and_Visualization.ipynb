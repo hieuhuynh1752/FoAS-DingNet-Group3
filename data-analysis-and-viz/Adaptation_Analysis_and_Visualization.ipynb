{
  "cells": [
    {
      "cell_type": "code",
      "execution_count": 40,
      "metadata": {
        "id": "sAPxf78-W0pm"
      },
      "outputs": [],
      "source": [
        "knitr::opts_chunk$set(echo = TRUE)"
      ]
    },
    {
      "cell_type": "markdown",
      "metadata": {
        "id": "Knnn3CkLXEsD"
      },
      "source": [
        "# Install the required packages"
      ]
    },
    {
      "cell_type": "code",
      "execution_count": 41,
      "metadata": {
        "id": "2i2LB9XmXHV4"
      },
      "outputs": [],
      "source": [
        "options(repos = c(CRAN = \"https://cran.rstudio.com/\"))\n",
        "\n",
        "if (!require(\"ggplot2\")) install.packages(\"ggplot2\")\n",
        "if (!require(\"e1071\")) install.packages(\"e1071\")\n",
        "if (!require(\"tidyverse\")) install.packages(\"tidyverse\")\n",
        "if (!require(\"dplyr\")) install.packages(\"dplyr\")\n",
        "if (!require(\"effsize\")) install.packages(\"effsize\")"
      ]
    },
    {
      "cell_type": "code",
      "execution_count": 42,
      "metadata": {
        "colab": {
          "base_uri": "https://localhost:8080/"
        },
        "id": "pq5VdEqoehec",
        "outputId": "c5120e6c-e601-4ca3-bf20-b725020065a5"
      },
      "outputs": [
        {
          "output_type": "stream",
          "name": "stderr",
          "text": [
            "Installing package into ‘/usr/local/lib/R/site-library’\n",
            "(as ‘lib’ is unspecified)\n",
            "\n",
            "Installing package into ‘/usr/local/lib/R/site-library’\n",
            "(as ‘lib’ is unspecified)\n",
            "\n",
            "Installing package into ‘/usr/local/lib/R/site-library’\n",
            "(as ‘lib’ is unspecified)\n",
            "\n",
            "Warning message:\n",
            "“package ‘grid’ is a base package, and should not be updated”\n",
            "Installing package into ‘/usr/local/lib/R/site-library’\n",
            "(as ‘lib’ is unspecified)\n",
            "\n"
          ]
        }
      ],
      "source": [
        "install.packages(\"car\")\n",
        "install.packages('cowplot')\n",
        "install.packages('grid')\n",
        "install.packages(\"png\")"
      ]
    },
    {
      "cell_type": "code",
      "execution_count": 43,
      "metadata": {
        "id": "mpPvH-5oXIzW"
      },
      "outputs": [],
      "source": [
        "library(\"car\")\n",
        "library('cowplot')\n",
        "library('grid')\n",
        "library(\"png\")\n",
        "\n",
        "library(e1071)\n",
        "library(effsize)\n",
        "\n",
        "library(ggplot2)\n",
        "library(tidyverse)\n",
        "library(dplyr)\n",
        "library(knitr)\n"
      ]
    },
    {
      "cell_type": "markdown",
      "source": [
        "# Define some global variables"
      ],
      "metadata": {
        "id": "WCTguW3wwini"
      }
    },
    {
      "cell_type": "code",
      "source": [
        "PROVOOST <- \"provoost\"\n",
        "OURS <- \"ours\"\n",
        "\n",
        "TREATMENTS <- c(PROVOOST,OURS)\n",
        "\n",
        "# Color mapping for On-Device and Remote using R's native colors\n",
        "COLOR_MAP <- c(provoost = \"coral\",\n",
        "               ours = \"lightblue\")\n",
        "\n",
        "PACKET_LOSS <- \"avg_packet_loss_percentage\"\n",
        "ENERGY <- \"total_energy_consumption_mJ\"\n",
        "\n",
        "METRICS <- c(PACKET_LOSS, ENERGY)\n",
        "\n",
        "AXIS_LABELS <- list(\n",
        "  avg_packet_loss_percentage = \"Average Packet Loss (%)\",\n",
        "  total_energy_consumption_mJ = \"Total Energy Consumption (mJ)\"\n",
        ")\n",
        "\n",
        "VIOLIN_FOLDER <- \"violin_plots\"\n",
        "\n",
        "PLOT_FOLDERS <- c(VIOLIN_FOLDER)\n",
        "\n",
        "WIDTH = 12\n",
        "HEIGHT = 12\n",
        "FONT_MULTIPLIER = 2"
      ],
      "metadata": {
        "id": "bd0OxjZewiMS"
      },
      "execution_count": 55,
      "outputs": []
    },
    {
      "cell_type": "markdown",
      "metadata": {
        "id": "TJarIovxXLJJ"
      },
      "source": [
        "# Read the run table file and multiply PACKET_LOSS with 100"
      ]
    },
    {
      "cell_type": "code",
      "execution_count": 45,
      "metadata": {
        "colab": {
          "base_uri": "https://localhost:8080/"
        },
        "id": "f-s7PrsZe9r5",
        "outputId": "7d72e79b-1c1e-48e7-db81-624e741ad341"
      },
      "outputs": [
        {
          "output_type": "stream",
          "name": "stdout",
          "text": [
            "           X__run_id X__done adaptation_mode avg_packet_loss_percentage\n",
            "1 run_0_repetition_0    DONE        provoost                   14.91694\n",
            "2 run_0_repetition_1    DONE        provoost                   15.26036\n",
            "3 run_0_repetition_2    DONE        provoost                   15.07233\n",
            "4 run_0_repetition_3    DONE        provoost                   15.19595\n",
            "5 run_0_repetition_4    DONE        provoost                   15.37998\n",
            "6 run_0_repetition_5    DONE        provoost                   15.01255\n",
            "  total_energy_consumption_mJ\n",
            "1                    7256.936\n",
            "2                    7479.798\n",
            "3                    7078.353\n",
            "4                    7410.731\n",
            "5                    7839.350\n",
            "6                    6918.433\n"
          ]
        }
      ],
      "source": [
        "# Read the dataset\n",
        "dataset <- read.csv(\"./run_table.csv\")\n",
        "\n",
        "print(head(dataset))\n"
      ]
    },
    {
      "cell_type": "markdown",
      "metadata": {
        "id": "27XNfSx-A-nO"
      },
      "source": [
        "# H1 Analysis."
      ]
    },
    {
      "cell_type": "markdown",
      "source": [
        "## Define a Function to Remove Outliers using IQR method (works on multiple columns of a dataset)"
      ],
      "metadata": {
        "id": "L2R05BKszUYX"
      }
    },
    {
      "cell_type": "code",
      "execution_count": 46,
      "metadata": {
        "id": "yQ8KvbrPA-GM"
      },
      "outputs": [],
      "source": [
        "# Function to remove outliers using the IQR method\n",
        "remove_outliers <- function(data, columns) {\n",
        "  # Initialize filtered data as the original data\n",
        "  filtered_data <- data\n",
        "\n",
        "  # Loop over each column and apply IQR outlier filtering\n",
        "  for (column in columns) {\n",
        "    Q1 <- quantile(filtered_data[[column]], 0.25, na.rm = TRUE)\n",
        "    Q3 <- quantile(filtered_data[[column]], 0.75, na.rm = TRUE)\n",
        "    IQR_value <- Q3 - Q1\n",
        "    lower_bound <- Q1 - 1.5 * IQR_value\n",
        "    upper_bound <- Q3 + 1.5 * IQR_value\n",
        "\n",
        "    # Filter rows where the column values are within bounds\n",
        "    filtered_data <- filtered_data %>%\n",
        "      filter(filtered_data[[column]] >= lower_bound & filtered_data[[column]] <= upper_bound)\n",
        "  }\n",
        "\n",
        "  return(filtered_data)\n",
        "}"
      ]
    },
    {
      "cell_type": "markdown",
      "source": [
        "## Filter dataset into 2 treatments while removing outliers based on `ENERGY` column\n",
        "- 2 Treatments:\n",
        "  - `provoost`\n",
        "  - `ours`"
      ],
      "metadata": {
        "id": "lrdR5TFwzmBe"
      }
    },
    {
      "cell_type": "code",
      "source": [
        "# Create a new dataset object for cleaned data\n",
        "cleaned_dataset <- data.frame()\n",
        "\n",
        "# Loop over treatments and apply outlier removal\n",
        "for (method in TREATMENTS) {\n",
        "  # Filter the dataset for the specific method\n",
        "  filtered_data <- dataset %>%\n",
        "    filter(adaptation_mode == !!method)  # Adjust column name for your dataset\n",
        "\n",
        "  # Remove outliers using the defined function\n",
        "  cleaned_subset <- remove_outliers(filtered_data, METRICS)\n",
        "\n",
        "  # Append the cleaned data to the new dataset\n",
        "  cleaned_dataset <- bind_rows(cleaned_dataset, cleaned_subset)\n",
        "}"
      ],
      "metadata": {
        "id": "xsCVgHCSy5Tp"
      },
      "execution_count": 47,
      "outputs": []
    },
    {
      "cell_type": "code",
      "source": [
        "print(head(cleaned_dataset))"
      ],
      "metadata": {
        "colab": {
          "base_uri": "https://localhost:8080/"
        },
        "id": "TFLsnbxDMxgs",
        "outputId": "dbed20af-5dc3-4528-e9e5-4374da69486a"
      },
      "execution_count": 48,
      "outputs": [
        {
          "output_type": "stream",
          "name": "stdout",
          "text": [
            "           X__run_id X__done adaptation_mode avg_packet_loss_percentage\n",
            "1 run_0_repetition_0    DONE        provoost                   14.91694\n",
            "2 run_0_repetition_1    DONE        provoost                   15.26036\n",
            "3 run_0_repetition_2    DONE        provoost                   15.07233\n",
            "4 run_0_repetition_3    DONE        provoost                   15.19595\n",
            "5 run_0_repetition_4    DONE        provoost                   15.37998\n",
            "6 run_0_repetition_5    DONE        provoost                   15.01255\n",
            "  total_energy_consumption_mJ\n",
            "1                    7256.936\n",
            "2                    7479.798\n",
            "3                    7078.353\n",
            "4                    7410.731\n",
            "5                    7839.350\n",
            "6                    6918.433\n"
          ]
        }
      ]
    },
    {
      "cell_type": "markdown",
      "source": [
        "## Table: Mean, Median, and Standard Deviation (SD) of Energy Consumption and Packet Loss for Different Treatment (Adaptation Strategies)"
      ],
      "metadata": {
        "id": "r64bvcSGJ6Fc"
      }
    },
    {
      "cell_type": "code",
      "source": [
        "# Group by adaptation_mode and calculate mean, median, and SD for each metric\n",
        "summary_table <- cleaned_dataset %>%\n",
        "  group_by(adaptation_mode) %>%\n",
        "  summarise(\n",
        "    mean_packet_loss = mean(.data[[PACKET_LOSS]], na.rm = TRUE),\n",
        "    median_packet_loss = median(.data[[PACKET_LOSS]], na.rm = TRUE),\n",
        "    sd_packet_loss = sd(.data[[PACKET_LOSS]], na.rm = TRUE),\n",
        "    mean_energy = mean(.data[[ENERGY]], na.rm = TRUE),\n",
        "    median_energy = median(.data[[ENERGY]], na.rm = TRUE),\n",
        "    sd_energy = sd(.data[[ENERGY]], na.rm = TRUE)\n",
        "  ) %>%\n",
        "  mutate(across(where(is.numeric), ~ sprintf(\"%.2f\", .x))) # Format all numeric values to 2 decimal places\n",
        "\n",
        "# Print the summary table using knitr for a nicely formatted table\n",
        "kable(summary_table,\n",
        "      caption = \"Mean, Median, and Standard Deviation (SD) of Energy Consumption and Packet Loss for Different Treatment (Adaptation Strategies)\")"
      ],
      "metadata": {
        "colab": {
          "base_uri": "https://localhost:8080/",
          "height": 142
        },
        "id": "z6BLxy9FJ5IX",
        "outputId": "4d91e337-a556-4719-a369-b621ef193358"
      },
      "execution_count": 49,
      "outputs": [
        {
          "output_type": "display_data",
          "data": {
            "text/plain": [
              "\n",
              "\n",
              "Table: Mean, Median, and Standard Deviation (SD) of Energy Consumption and Packet Loss for Different Treatment (Adaptation Strategies)\n",
              "\n",
              "|adaptation_mode |mean_packet_loss |median_packet_loss |sd_packet_loss |mean_energy |median_energy |sd_energy |\n",
              "|:---------------|:----------------|:------------------|:--------------|:-----------|:-------------|:---------|\n",
              "|provoost        |15.10            |15.11              |0.15           |7307.76     |7330.50       |304.18    |"
            ]
          },
          "metadata": {}
        }
      ]
    },
    {
      "cell_type": "markdown",
      "metadata": {
        "id": "MwScFI9ye_BN"
      },
      "source": [
        "# Normality Check"
      ]
    },
    {
      "cell_type": "markdown",
      "source": [
        "## Visualize data for manual normality check"
      ],
      "metadata": {
        "id": "0fMg72YC8gaJ"
      }
    },
    {
      "cell_type": "code",
      "source": [
        "# Remove all folders listed in PLOT_FOLDERS\n",
        "for (folder in PLOT_FOLDERS) {\n",
        "  system(paste(\"rm -rf\", folder))  # Remove the folder if it exists\n",
        "}\n",
        "\n",
        "# Loop through the plot folders and create them if they don't exist\n",
        "for (folder in PLOT_FOLDERS) {\n",
        "  if (!dir.exists(folder)) {\n",
        "    dir.create(folder)\n",
        "  }\n",
        "}\n"
      ],
      "metadata": {
        "id": "NGkUM6IhgChV"
      },
      "execution_count": 60,
      "outputs": []
    },
    {
      "cell_type": "markdown",
      "source": [
        "### Violin Plots"
      ],
      "metadata": {
        "id": "Tn4vRKiR664X"
      }
    },
    {
      "cell_type": "code",
      "execution_count": 61,
      "metadata": {
        "id": "2h-nBKS9fBK2"
      },
      "outputs": [],
      "source": [
        "violin_plot <- function(dataset, title, x, y, show_legend = TRUE) {\n",
        "  ggplot(dataset, aes(x = Distribution, y = Values, fill = Distribution)) +\n",
        "    geom_violin(alpha = 0.5) +\n",
        "    geom_boxplot(width = 0.045, outlier.shape = NA) +\n",
        "    scale_fill_manual(values = COLOR_MAP) +  # Use COLOR_MAP for colors\n",
        "    labs(\n",
        "      title = title,\n",
        "      x = x,\n",
        "      y = y\n",
        "    ) +\n",
        "    theme_minimal() +\n",
        "    theme(\n",
        "      legend.position = ifelse(show_legend, \"right\", \"none\"),  # Control legend display\n",
        "      legend.title = element_blank(),\n",
        "      legend.text = element_text(size = rel(FONT_MULTIPLIER)),  # Increase legend text size\n",
        "      axis.title = element_text(size = rel(FONT_MULTIPLIER)),\n",
        "      axis.text = element_text(size = rel(FONT_MULTIPLIER)),\n",
        "      plot.title = element_text(size = rel(1.1 * FONT_MULTIPLIER))\n",
        "    )\n",
        "}"
      ]
    },
    {
      "cell_type": "code",
      "source": [
        "generate_plots_for_metric <- function(metric_name) {\n",
        "  # Assuming combined_data is already in the correct format:\n",
        "  # 'combined_data' must have columns: adaptation_mode, Values, Metric (avg_packet_loss or total_energy_consumption_mJ)\n",
        "\n",
        "  # Create the dataset for the specific metric\n",
        "  plot_data <- cleaned_dataset %>%\n",
        "    select(adaptation_mode, all_of(metric_name)) %>%\n",
        "    gather(key = \"Metric\", value = \"Values\", all_of(metric_name)) %>%\n",
        "    mutate(Distribution = factor(adaptation_mode, levels = TREATMENTS))\n",
        "\n",
        "  # Create the violin plot title based on the metric\n",
        "  plot_title_violin <- paste0(\"Violin Plot for \", AXIS_LABELS[[metric_name]])\n",
        "\n",
        "  # Generate the violin plot object\n",
        "  violin_plot_obj <- violin_plot(\n",
        "    dataset = plot_data,\n",
        "    title = plot_title_violin,\n",
        "    x = \"Adaptation Strategy\",\n",
        "    y = AXIS_LABELS[[metric_name]],\n",
        "    show_legend = FALSE\n",
        "  )\n",
        "\n",
        "  # Save the violin plot in the specified folder\n",
        "  ggsave(\n",
        "    filename = file.path(VIOLIN_FOLDER, paste0(\"violin_plot_\", metric_name, \".png\")),\n",
        "    plot = violin_plot_obj,\n",
        "    width = WIDTH,\n",
        "    height = HEIGHT\n",
        "  )\n",
        "}"
      ],
      "metadata": {
        "id": "ufrBtFOCc4iV"
      },
      "execution_count": 62,
      "outputs": []
    },
    {
      "cell_type": "code",
      "source": [
        "# Loop through each metric and generate plots\n",
        "for (metric_name in METRICS) {\n",
        "  generate_plots_for_metric(metric_name)\n",
        "}"
      ],
      "metadata": {
        "id": "jHDf2oGDd3Nx"
      },
      "execution_count": 63,
      "outputs": []
    },
    {
      "cell_type": "markdown",
      "source": [
        "# [Only on Google Colab] Download the Visualization Folders"
      ],
      "metadata": {
        "id": "Xy75aaV08wM6"
      }
    },
    {
      "cell_type": "code",
      "source": [
        "zip(\"all_folders.zip\", files = unlist(lapply(PLOT_FOLDERS, function(folder) {\n",
        "  list.files(folder, full.names = TRUE, recursive = TRUE)\n",
        "})))\n",
        "\n"
      ],
      "metadata": {
        "id": "IEvPmEZW80kd"
      },
      "execution_count": null,
      "outputs": []
    },
    {
      "cell_type": "code",
      "source": [
        "# Then, manually download the exported .zip"
      ],
      "metadata": {
        "id": "ynoG_Kck9MnB"
      },
      "execution_count": null,
      "outputs": []
    }
  ],
  "metadata": {
    "colab": {
      "provenance": []
    },
    "kernelspec": {
      "display_name": "R",
      "name": "ir"
    },
    "language_info": {
      "name": "R"
    }
  },
  "nbformat": 4,
  "nbformat_minor": 0
}